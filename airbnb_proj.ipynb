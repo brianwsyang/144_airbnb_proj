{
 "cells": [
  {
   "cell_type": "code",
   "execution_count": 1,
   "metadata": {
    "id": "pcLeZXLwocFu"
   },
   "outputs": [
    {
     "data": {
      "text/plain": [
       "'\\nDATA 144: Data Mining and Analytics - Fall 2019\\nAirbnb Project\\n\\nCharis Chan. Joyce Ching. Chloe Lee. Brian Yang\\n'"
      ]
     },
     "execution_count": 1,
     "metadata": {},
     "output_type": "execute_result"
    }
   ],
   "source": [
    "\"\"\"\n",
    "DATA 144: Data Mining and Analytics - Fall 2019\n",
    "Airbnb Project\n",
    "\n",
    "Charis Chan. Joyce Ching. Chloe Lee. Brian Yang\n",
    "\"\"\""
   ]
  },
  {
   "cell_type": "markdown",
   "metadata": {
    "id": "eht24Qp3NL1O"
   },
   "source": [
    "**Datasets**\n",
    "\n",
    "Reviews: Detailed Review Data for listings in San Francisco\n",
    "\n",
    "Listing: Detailed Listings data for San Francisco\n",
    "\n",
    "(data from 2018-2019)"
   ]
  },
  {
   "cell_type": "markdown",
   "metadata": {
    "id": "WaoSYbtIRRZp"
   },
   "source": [
    "**Goal: predicting Airbnb prices for new listings in September 2019**"
   ]
  },
  {
   "cell_type": "markdown",
   "metadata": {
    "id": "H4hWTHXHNHbp"
   },
   "source": [
    "**Columns to Use**\n",
    "\n",
    "Listings dataset:\n",
    "* id\n",
    "* last_scraped\n",
    "* name\n",
    "* summary \n",
    "* space\n",
    "* description\n",
    "* neighborhood_overview \n",
    "* transit\n",
    "* house_rules (length, number of no's,fine, using vader sentiment) \n",
    "* host_id\n",
    "* neighbourhood_cleansed (one-hot)\n",
    "* property_type\n",
    "* room_type\n",
    "* accommodates\n",
    "* bathrooms\n",
    "* bedrooms\n",
    "* beds\n",
    "* bed_type(one-hot)\n",
    "* amenities (one-hot)\n",
    "* price\n",
    "* weekly_price (is option?, \\$ saved vs price)\n",
    "* monthly_price (is option?, \\$ saved vs price)\n",
    "* security_deposit\n",
    "* guest_included\n",
    "* extra_people\n",
    "* minimum_nights\n",
    "* maximum_nights\n",
    "* availability_30\n",
    "* number_of_reviews\n",
    "* number_of_reviews_ltm\n",
    "* review_scores_ratings (is it better to break it down?)\n",
    "* cancellation_policy (one-hot)\n",
    "\n",
    "\n",
    "New variables:\n",
    "*   VADER sentiment analysis: \n",
    "    *   summary\n",
    "    *   space\n",
    "    *   description\n",
    "    *   neighborhood_overview\n",
    "    *   house_rules\n",
    "\n",
    "*   host score (subjective, but explain logic behind how score is determined):\n",
    "    *   superhost\n",
    "    *   response rate\n",
    "    *   response time\n",
    "    *   verified identity\n",
    "    *   host_since\n",
    "    *   written things in host_about\n",
    "\n",
    "* amenities score\n",
    "    *   available amenities\n",
    "* avg_review_sentiment, join by listing_id\n",
    "  *  comments (vader sentiment analysis)\n",
    "* sd_review_sentiment, join by listing_id\n",
    "  * comments (vader sentiment analysis)\n",
    "  \n",
    "\n",
    "\n",
    "\n"
   ]
  },
  {
   "cell_type": "markdown",
   "metadata": {
    "id": "qFR4YpSGPN2I"
   },
   "source": [
    "**If predicting September of 2019 prices, is it better to predict using:**\n",
    "\n",
    "1.   all of 2018\n",
    "2.   September 2018 (same month, 1yr ago)\n",
    "3.   August 2019\n",
    "\n"
   ]
  },
  {
   "cell_type": "markdown",
   "metadata": {
    "id": "EQC6Vy3rdxw6"
   },
   "source": [
    "**Import datasets**"
   ]
  },
  {
   "cell_type": "code",
   "execution_count": 2,
   "metadata": {
    "id": "af3IUq5eAN9q"
   },
   "outputs": [],
   "source": [
    "import pandas as pd\n",
    "import numpy as np\n"
   ]
  },
  {
   "cell_type": "code",
   "execution_count": 3,
   "metadata": {
    "id": "5dME0SqvApWy"
   },
   "outputs": [],
   "source": [
    "oct18_list = pd.read_csv('airbnb_data/listings10_18.csv')\n",
    "oct19_list = pd.read_csv('airbnb_data/listings10_19.csv')\n",
    "sept19_list = pd.read_csv('airbnb_data/listings9_19.csv')\n",
    "reviews = pd.read_csv('airbnb_data/reviews10_19.csv')\n"
   ]
  },
  {
   "cell_type": "code",
   "execution_count": 4,
   "metadata": {
    "colab": {
     "base_uri": "https://localhost:8080/",
     "height": 35
    },
    "id": "R0NR3_awM57E",
    "outputId": "11d12300-6168-4cba-eefc-7db4da2d1552"
   },
   "outputs": [
    {
     "data": {
      "text/plain": [
       "(7933, 106)"
      ]
     },
     "execution_count": 4,
     "metadata": {},
     "output_type": "execute_result"
    }
   ],
   "source": [
    "sept19_list.shape"
   ]
  },
  {
   "cell_type": "code",
   "execution_count": 5,
   "metadata": {
    "colab": {
     "base_uri": "https://localhost:8080/",
     "height": 225
    },
    "id": "WA2q1Vvn6xHD",
    "outputId": "3e02db76-5f54-47f6-8e49-cd87735986cc"
   },
   "outputs": [
    {
     "data": {
      "text/plain": [
       "id                                                                                        4175303\n",
       "listing_url                                                  https://www.airbnb.com/rooms/4175303\n",
       "scrape_id                                                                          20190912153044\n",
       "last_scraped                                                                           2019-09-12\n",
       "name                                                              Central & lovely full apartment\n",
       "summary                                         A private-entrance, a wood floored apartment a...\n",
       "space                                           The main bedroom has king-sized bed. The room ...\n",
       "description                                     A private-entrance, a wood floored apartment a...\n",
       "experiences_offered                                                                          none\n",
       "neighborhood_overview                           We love the centrality of this location.  Haye...\n",
       "notes                                           The access to the apartment is by door code. (...\n",
       "transit                                         This listing is directly on bus lines, and a 1...\n",
       "access                                          Access to the common spaces, refrigerator, was...\n",
       "interaction                                     We generally rent our apartment while we are t...\n",
       "house_rules                                                  No pets or smoking in the apartment.\n",
       "thumbnail_url                                                                                 NaN\n",
       "medium_url                                                                                    NaN\n",
       "picture_url                                     https://a0.muscache.com/im/pictures/102561098/...\n",
       "xl_picture_url                                                                                NaN\n",
       "host_id                                                                                   7434440\n",
       "host_url                                                https://www.airbnb.com/users/show/7434440\n",
       "host_name                                                                                  Stuart\n",
       "host_since                                                                             2013-07-12\n",
       "host_location                                            San Francisco, California, United States\n",
       "host_about                                      We are a swing dancing, music loving couple in...\n",
       "host_response_time                                                                            NaN\n",
       "host_response_rate                                                                            NaN\n",
       "host_acceptance_rate                                                                          NaN\n",
       "host_is_superhost                                                                               f\n",
       "host_thumbnail_url                              https://a0.muscache.com/im/pictures/4dad63b9-7...\n",
       "                                                                      ...                        \n",
       "has_availability                                                                                t\n",
       "availability_30                                                                                 0\n",
       "availability_60                                                                                 0\n",
       "availability_90                                                                                 0\n",
       "availability_365                                                                                0\n",
       "calendar_last_scraped                                                                  2019-09-12\n",
       "number_of_reviews                                                                              68\n",
       "number_of_reviews_ltm                                                                           0\n",
       "first_review                                                                           2014-09-28\n",
       "last_review                                                                            2018-04-02\n",
       "review_scores_rating                                                                           96\n",
       "review_scores_accuracy                                                                         10\n",
       "review_scores_cleanliness                                                                       9\n",
       "review_scores_checkin                                                                          10\n",
       "review_scores_communication                                                                    10\n",
       "review_scores_location                                                                         10\n",
       "review_scores_value                                                                            10\n",
       "requires_license                                                                                t\n",
       "license                                                                               STR-0000929\n",
       "jurisdiction_names                                                              {\"SAN FRANCISCO\"}\n",
       "instant_bookable                                                                                f\n",
       "is_business_travel_ready                                                                        f\n",
       "cancellation_policy                                                                      moderate\n",
       "require_guest_profile_picture                                                                   f\n",
       "require_guest_phone_verification                                                                f\n",
       "calculated_host_listings_count                                                                  1\n",
       "calculated_host_listings_count_entire_homes                                                     1\n",
       "calculated_host_listings_count_private_rooms                                                    0\n",
       "calculated_host_listings_count_shared_rooms                                                     0\n",
       "reviews_per_month                                                                            1.13\n",
       "Name: 1272, Length: 106, dtype: object"
      ]
     },
     "execution_count": 5,
     "metadata": {},
     "output_type": "execute_result"
    }
   ],
   "source": [
    "sept19_list.iloc[1272]"
   ]
  },
  {
   "cell_type": "markdown",
   "metadata": {
    "id": "2nauu6-Xqpo-"
   },
   "source": [
    "**One-Hot Encoding**"
   ]
  },
  {
   "cell_type": "code",
   "execution_count": 6,
   "metadata": {
    "id": "6yYZMfhlq5PS"
   },
   "outputs": [],
   "source": [
    "from sklearn.preprocessing import LabelEncoder, OneHotEncoder\n",
    "from sklearn.feature_extraction import DictVectorizer"
   ]
  },
  {
   "cell_type": "code",
   "execution_count": 7,
   "metadata": {
    "id": "zJ2T8blajDFJ"
   },
   "outputs": [],
   "source": [
    "# price as a float instead of string\n",
    "oct18_list['price'] = oct18_list['price'].str.replace('$', '').str.replace(',', '').astype(float)\n",
    "oct19_list['price'] = oct19_list['price'].str.replace('$', '').str.replace(',', '').astype(float)\n",
    "sept19_list['price'] = sept19_list['price'].str.replace('$', '').str.replace(',', '').astype(float)"
   ]
  },
  {
   "cell_type": "code",
   "execution_count": 8,
   "metadata": {
    "id": "vgXtpKe2uWt5"
   },
   "outputs": [],
   "source": [
    "# security_deposit as a float instead of string\n",
    "oct18_list['security_deposit'] = oct18_list['security_deposit'].str.replace('$', '').str.replace(',', '').astype(float)\n",
    "oct19_list['security_deposit'] = oct19_list['security_deposit'].str.replace('$', '').str.replace(',', '').astype(float)\n",
    "sept19_list['security_deposit'] = sept19_list['security_deposit'].str.replace('$', '').str.replace(',', '').astype(float)"
   ]
  },
  {
   "cell_type": "code",
   "execution_count": 9,
   "metadata": {
    "id": "8HkpOjY2ua_o"
   },
   "outputs": [],
   "source": [
    "oct18_list['security_deposit'] = oct18_list['security_deposit'].fillna(0)\n",
    "oct19_list['security_deposit'] = oct19_list['security_deposit'].fillna(0)\n",
    "sept19_list['security_deposit'] = sept19_list['security_deposit'].fillna(0)"
   ]
  },
  {
   "cell_type": "code",
   "execution_count": 10,
   "metadata": {
    "id": "JP4fNdvlubrj"
   },
   "outputs": [],
   "source": [
    "oct18_list['guests_included'] = oct18_list['guests_included'].astype(float)\n",
    "oct19_list['guests_included'] = oct19_list['guests_included'].astype(float)\n",
    "sept19_list['guests_included'] = sept19_list['guests_included'].astype(float)"
   ]
  },
  {
   "cell_type": "code",
   "execution_count": 11,
   "metadata": {
    "id": "F14FEQuBA11y"
   },
   "outputs": [],
   "source": [
    "#bed_type one-hot transformation\n",
    "bed_type = LabelEncoder()\n",
    "bed_type.fit(['Real Bed', 'Futon', 'Airbed', 'Pull-out Sofa', 'Couch'])\n",
    "oct18_list['bed_type_trans'] = bed_type.transform(oct18_list['bed_type'])\n",
    "oct19_list['bed_type_trans'] = bed_type.transform(oct19_list['bed_type'])\n",
    "sept19_list['bed_type_trans'] = bed_type.transform(sept19_list['bed_type'])"
   ]
  },
  {
   "cell_type": "code",
   "execution_count": 12,
   "metadata": {
    "id": "YpL9r9XtqtYf"
   },
   "outputs": [],
   "source": [
    "#cancellation_policy one-hot transformation\n",
    "cancellation_policy = LabelEncoder()\n",
    "cancellation_policy.fit(['moderate', 'strict_14_with_grace_period', 'flexible',\n",
    "       'super_strict_30', 'strict', 'super_strict_60'])\n",
    "oct18_list['cancellation_policy_trans'] = cancellation_policy.transform(oct18_list['cancellation_policy'])\n",
    "oct19_list['cancellation_policy_trans'] = cancellation_policy.transform(oct19_list['cancellation_policy'])\n",
    "sept19_list['cancellation_policy_trans'] = cancellation_policy.transform(sept19_list['cancellation_policy'])"
   ]
  },
  {
   "cell_type": "code",
   "execution_count": 13,
   "metadata": {
    "id": "ZhEavyiarBTD"
   },
   "outputs": [],
   "source": [
    "#neighbourhood_cleansed one-hot transformation\n",
    "neighbourhood_cleansed = LabelEncoder()\n",
    "neighbourhood_cleansed.fit(['Western Addition', 'Inner Sunset', 'Bernal Heights',\n",
    "       'Haight Ashbury', 'Mission', 'Potrero Hill', 'Nob Hill',\n",
    "       'Downtown/Civic Center', 'Castro/Upper Market', 'South of Market',\n",
    "       'Noe Valley', 'Outer Richmond', 'Presidio Heights', 'Glen Park',\n",
    "       'Ocean View', 'Pacific Heights', 'Financial District',\n",
    "       'Twin Peaks', 'Russian Hill', 'Outer Sunset', 'Marina',\n",
    "       'Inner Richmond', 'Excelsior', 'Seacliff', 'Chinatown',\n",
    "       'West of Twin Peaks', 'Bayview', 'North Beach', 'Diamond Heights',\n",
    "       'Outer Mission', 'Parkside', 'Lakeshore', 'Crocker Amazon',\n",
    "       'Golden Gate Park', 'Visitacion Valley', 'Presidio',\n",
    "       'Treasure Island/YBI'])\n",
    "oct18_list['neighbourhood_cleansed_trans'] = neighbourhood_cleansed.transform(oct18_list['neighbourhood_cleansed'])\n",
    "oct19_list['neighbourhood_cleansed_trans'] = neighbourhood_cleansed.transform(oct19_list['neighbourhood_cleansed'])\n",
    "sept19_list['neighbourhood_cleansedy_trans'] = neighbourhood_cleansed.transform(sept19_list['neighbourhood_cleansed'])"
   ]
  },
  {
   "cell_type": "code",
   "execution_count": 14,
   "metadata": {
    "id": "vJkW0hWyfxrb"
   },
   "outputs": [],
   "source": [
    "#room_type one-hot transformation\n",
    "room_type = LabelEncoder()\n",
    "room_type.fit(['Entire home/apt', 'Private room', 'Shared room', 'Hotel room'])\n",
    "oct18_list['room_type_trans'] = room_type.transform(oct18_list['room_type'])\n",
    "oct19_list['room_type_trans'] = room_type.transform(oct19_list['room_type'])\n",
    "sept19_list['room_type_trans'] = room_type.transform(sept19_list['room_type'])"
   ]
  },
  {
   "cell_type": "code",
   "execution_count": 15,
   "metadata": {
    "id": "srSWoKIWrBV0"
   },
   "outputs": [],
   "source": [
    "#count the number of amenities of each row\n",
    "\n",
    "oct19_list['len_amenities'] = oct19_list['amenities'].apply(lambda x: len(x.split(',')))\n",
    "sept19_list['len_amenities'] = sept19_list['amenities'].apply(lambda x: len(x.split(',')))\n",
    "\n",
    "oct18_list['len_amenities'] = oct18_list['amenities'].apply(lambda x: len(x.split(',')))\n"
   ]
  },
  {
   "cell_type": "code",
   "execution_count": 16,
   "metadata": {
    "id": "LZwgKdM7rBYt"
   },
   "outputs": [],
   "source": [
    "#create columns by picking some amenities\n",
    "\n",
    "amenities = {'tv_trans':'TV', 'internet_trans':'Internet', \n",
    "             'wifi_trans':'Wifi', 'kitchen_trans':'Kitchen', \n",
    "             'heating_trans':'Heating', 'air_conditioning_trans':'Air conditioning', \n",
    "             'dryer_trans':'Dryer', '24hr_checkin_trans':'24-hour check-in', \n",
    "             'self_checkin_trans':'Self check-in', 'breakfast_trans':'Breakfast', \n",
    "             'washer_trans':'Washer', 'smoke_detector_trans':'Smoke detector', \n",
    "             'host_greets_trans':'Host greets you', 'hot_water_trans':'Hot water', \n",
    "             'parking_trans':'parking', 'balcony_trans':'Patio or balcony', \n",
    "             'garden_trans':'Garden or backyard', 'cooking_trans':'Cooking basics', \n",
    "             'BBQ_trans':'BBQ grill', 'oven_trans':'Oven', \n",
    "             'stove_trans':'Stove', 'hairdryer_trans':'Hair dryer', \n",
    "             'dishwasher_trans':'Dishwasher', 'fridge_trans':'Refrigerator', \n",
    "             'coffeemaker_trans':'Coffee maker', 'microwave_trans':'Microwave', \n",
    "             'private_bath_trans':'Private bathroom', 'laptop_friendly_trans':'Laptop friendly workspace', \n",
    "             'essentials_trans':'Essentials', 'lock_trans':'Lock on bedroom door', \n",
    "             'dishes_trans':'Dishes and silverware'}\n",
    "\n",
    "for a in amenities:\n",
    "    oct18_list[a] = oct18_list['amenities'].str.contains(amenities[a]).astype(int)\n",
    "    oct19_list[a] = oct19_list['amenities'].str.contains(amenities[a]).astype(int)\n",
    "    sept19_list[a] = sept19_list['amenities'].str.contains(amenities[a]).astype(int)"
   ]
  },
  {
   "cell_type": "markdown",
   "metadata": {
    "id": "JoC2UT74-c4N"
   },
   "source": [
    "Host Scores"
   ]
  },
  {
   "cell_type": "code",
   "execution_count": 17,
   "metadata": {
    "colab": {
     "base_uri": "https://localhost:8080/",
     "height": 782
    },
    "id": "qSK0cnRPYijq",
    "outputId": "a0ef0da5-bed0-41ff-bf2b-fa064eb65819"
   },
   "outputs": [
    {
     "name": "stderr",
     "output_type": "stream",
     "text": [
      "/Users/goomibear/anaconda3/lib/python3.7/site-packages/ipykernel_launcher.py:10: SettingWithCopyWarning: \n",
      "A value is trying to be set on a copy of a slice from a DataFrame.\n",
      "Try using .loc[row_indexer,col_indexer] = value instead\n",
      "\n",
      "See the caveats in the documentation: http://pandas.pydata.org/pandas-docs/stable/indexing.html#indexing-view-versus-copy\n",
      "  # Remove the CWD from sys.path while we load stuff.\n",
      "/Users/goomibear/anaconda3/lib/python3.7/site-packages/ipykernel_launcher.py:12: SettingWithCopyWarning: \n",
      "A value is trying to be set on a copy of a slice from a DataFrame.\n",
      "Try using .loc[row_indexer,col_indexer] = value instead\n",
      "\n",
      "See the caveats in the documentation: http://pandas.pydata.org/pandas-docs/stable/indexing.html#indexing-view-versus-copy\n",
      "  if sys.path[0] == '':\n",
      "/Users/goomibear/anaconda3/lib/python3.7/site-packages/ipykernel_launcher.py:14: SettingWithCopyWarning: \n",
      "A value is trying to be set on a copy of a slice from a DataFrame.\n",
      "Try using .loc[row_indexer,col_indexer] = value instead\n",
      "\n",
      "See the caveats in the documentation: http://pandas.pydata.org/pandas-docs/stable/indexing.html#indexing-view-versus-copy\n",
      "  \n",
      "/Users/goomibear/anaconda3/lib/python3.7/site-packages/ipykernel_launcher.py:16: SettingWithCopyWarning: \n",
      "A value is trying to be set on a copy of a slice from a DataFrame.\n",
      "Try using .loc[row_indexer,col_indexer] = value instead\n",
      "\n",
      "See the caveats in the documentation: http://pandas.pydata.org/pandas-docs/stable/indexing.html#indexing-view-versus-copy\n",
      "  app.launch_new_instance()\n",
      "/Users/goomibear/anaconda3/lib/python3.7/site-packages/ipykernel_launcher.py:18: SettingWithCopyWarning: \n",
      "A value is trying to be set on a copy of a slice from a DataFrame.\n",
      "Try using .loc[row_indexer,col_indexer] = value instead\n",
      "\n",
      "See the caveats in the documentation: http://pandas.pydata.org/pandas-docs/stable/indexing.html#indexing-view-versus-copy\n",
      "/Users/goomibear/anaconda3/lib/python3.7/site-packages/ipykernel_launcher.py:20: SettingWithCopyWarning: \n",
      "A value is trying to be set on a copy of a slice from a DataFrame.\n",
      "Try using .loc[row_indexer,col_indexer] = value instead\n",
      "\n",
      "See the caveats in the documentation: http://pandas.pydata.org/pandas-docs/stable/indexing.html#indexing-view-versus-copy\n",
      "/Users/goomibear/anaconda3/lib/python3.7/site-packages/pandas/core/indexing.py:543: SettingWithCopyWarning: \n",
      "A value is trying to be set on a copy of a slice from a DataFrame.\n",
      "Try using .loc[row_indexer,col_indexer] = value instead\n",
      "\n",
      "See the caveats in the documentation: http://pandas.pydata.org/pandas-docs/stable/indexing.html#indexing-view-versus-copy\n",
      "  self.obj[item] = s\n",
      "/Users/goomibear/anaconda3/lib/python3.7/site-packages/ipykernel_launcher.py:26: SettingWithCopyWarning: \n",
      "A value is trying to be set on a copy of a slice from a DataFrame.\n",
      "Try using .loc[row_indexer,col_indexer] = value instead\n",
      "\n",
      "See the caveats in the documentation: http://pandas.pydata.org/pandas-docs/stable/indexing.html#indexing-view-versus-copy\n"
     ]
    }
   ],
   "source": [
    "oct18_host = oct18_list[['host_since', \n",
    "                         'host_response_time', \n",
    "                         'host_response_rate', \n",
    "                         'host_is_superhost', \n",
    "                         'host_verifications', \n",
    "                         'host_has_profile_pic', \n",
    "                         'host_identity_verified']]\n",
    "\n",
    "oct18_h_since = 2018 - pd.to_numeric(oct18_host.host_since.str[:4])\n",
    "oct18_host['host_since'] = oct18_h_since / max(oct18_h_since) * 25\n",
    "oct18_h_sh = (oct18_host.host_is_superhost == 't')\n",
    "oct18_host['host_is_superhost'] = oct18_h_sh * 20\n",
    "oct18_h_rr = pd.to_numeric(oct18_host.host_response_rate.str[:-1])\n",
    "oct18_host['host_response_rate'] = oct18_h_rr.fillna(0) / 100 * 10\n",
    "oct18_h_verif = oct18_host.host_verifications.apply(lambda x: len(x.split(',')))\n",
    "oct18_host['host_verifications'] = oct18_h_verif / max(oct18_h_verif) * 15\n",
    "oct18_h_pp = (oct18_host.host_has_profile_pic == 't')\n",
    "oct18_host['host_has_profile_pic'] = oct18_h_pp * 5\n",
    "oct18_h_id = (oct18_host.host_identity_verified == 't')\n",
    "oct18_host['host_identity_verified'] = oct18_h_id * 15\n",
    "\n",
    "oct18_host.loc[oct18_host['host_response_time'] == 'within an hour'] = 10\n",
    "oct18_host.loc[oct18_host['host_response_time'] == 'within a few hours'] = 7.5\n",
    "oct18_host.loc[oct18_host['host_response_time'] == 'within a day'] = 5\n",
    "oct18_host.loc[oct18_host['host_response_time'] == 'a few days or more'] = 2.5\n",
    "oct18_host['host_response_time'] = oct18_host.host_response_time.fillna(0)"
   ]
  },
  {
   "cell_type": "code",
   "execution_count": 18,
   "metadata": {
    "colab": {
     "base_uri": "https://localhost:8080/",
     "height": 782
    },
    "id": "0hUq3UU3Z2Mm",
    "outputId": "77a18942-e05c-4c58-cfa5-2a5de270b46c"
   },
   "outputs": [
    {
     "name": "stderr",
     "output_type": "stream",
     "text": [
      "/Users/goomibear/anaconda3/lib/python3.7/site-packages/ipykernel_launcher.py:10: SettingWithCopyWarning: \n",
      "A value is trying to be set on a copy of a slice from a DataFrame.\n",
      "Try using .loc[row_indexer,col_indexer] = value instead\n",
      "\n",
      "See the caveats in the documentation: http://pandas.pydata.org/pandas-docs/stable/indexing.html#indexing-view-versus-copy\n",
      "  # Remove the CWD from sys.path while we load stuff.\n",
      "/Users/goomibear/anaconda3/lib/python3.7/site-packages/ipykernel_launcher.py:12: SettingWithCopyWarning: \n",
      "A value is trying to be set on a copy of a slice from a DataFrame.\n",
      "Try using .loc[row_indexer,col_indexer] = value instead\n",
      "\n",
      "See the caveats in the documentation: http://pandas.pydata.org/pandas-docs/stable/indexing.html#indexing-view-versus-copy\n",
      "  if sys.path[0] == '':\n",
      "/Users/goomibear/anaconda3/lib/python3.7/site-packages/ipykernel_launcher.py:14: SettingWithCopyWarning: \n",
      "A value is trying to be set on a copy of a slice from a DataFrame.\n",
      "Try using .loc[row_indexer,col_indexer] = value instead\n",
      "\n",
      "See the caveats in the documentation: http://pandas.pydata.org/pandas-docs/stable/indexing.html#indexing-view-versus-copy\n",
      "  \n",
      "/Users/goomibear/anaconda3/lib/python3.7/site-packages/ipykernel_launcher.py:16: SettingWithCopyWarning: \n",
      "A value is trying to be set on a copy of a slice from a DataFrame.\n",
      "Try using .loc[row_indexer,col_indexer] = value instead\n",
      "\n",
      "See the caveats in the documentation: http://pandas.pydata.org/pandas-docs/stable/indexing.html#indexing-view-versus-copy\n",
      "  app.launch_new_instance()\n",
      "/Users/goomibear/anaconda3/lib/python3.7/site-packages/ipykernel_launcher.py:18: SettingWithCopyWarning: \n",
      "A value is trying to be set on a copy of a slice from a DataFrame.\n",
      "Try using .loc[row_indexer,col_indexer] = value instead\n",
      "\n",
      "See the caveats in the documentation: http://pandas.pydata.org/pandas-docs/stable/indexing.html#indexing-view-versus-copy\n",
      "/Users/goomibear/anaconda3/lib/python3.7/site-packages/ipykernel_launcher.py:20: SettingWithCopyWarning: \n",
      "A value is trying to be set on a copy of a slice from a DataFrame.\n",
      "Try using .loc[row_indexer,col_indexer] = value instead\n",
      "\n",
      "See the caveats in the documentation: http://pandas.pydata.org/pandas-docs/stable/indexing.html#indexing-view-versus-copy\n",
      "/Users/goomibear/anaconda3/lib/python3.7/site-packages/ipykernel_launcher.py:26: SettingWithCopyWarning: \n",
      "A value is trying to be set on a copy of a slice from a DataFrame.\n",
      "Try using .loc[row_indexer,col_indexer] = value instead\n",
      "\n",
      "See the caveats in the documentation: http://pandas.pydata.org/pandas-docs/stable/indexing.html#indexing-view-versus-copy\n"
     ]
    }
   ],
   "source": [
    "oct19_host = oct19_list[['host_since', \n",
    "                         'host_response_time', \n",
    "                         'host_response_rate', \n",
    "                         'host_is_superhost', \n",
    "                         'host_verifications', \n",
    "                         'host_has_profile_pic', \n",
    "                         'host_identity_verified']]\n",
    "\n",
    "oct19_h_since = 2019 - pd.to_numeric(oct19_host.host_since.str.slice(-4))\n",
    "oct19_host['host_since'] = oct19_h_since / max(oct19_h_since) * 25\n",
    "oct19_h_sh = (oct19_host.host_is_superhost == 't')\n",
    "oct19_host['host_is_superhost'] = oct19_h_sh * 20\n",
    "oct19_h_rr = pd.to_numeric(oct19_host.host_response_rate.str[:-1])\n",
    "oct19_host['host_response_rate'] = oct19_h_rr.fillna(0) / 100 * 10\n",
    "oct19_h_verif = oct19_host.host_verifications.apply(lambda x: len(x.split(',')))\n",
    "oct19_host['host_verifications'] = oct19_h_verif / max(oct19_h_verif) * 15\n",
    "oct19_h_pp = (oct19_host.host_has_profile_pic == 't')\n",
    "oct19_host['host_has_profile_pic'] = oct19_h_pp * 5\n",
    "oct19_h_id = (oct19_host.host_identity_verified == 't')\n",
    "oct19_host['host_identity_verified'] = oct19_h_id * 15\n",
    "\n",
    "oct19_host.loc[oct19_host['host_response_time'] == 'within an hour'] = 10\n",
    "oct19_host.loc[oct19_host['host_response_time'] == 'within a few hours'] = 7.5\n",
    "oct19_host.loc[oct19_host['host_response_time'] == 'within a day'] = 5\n",
    "oct19_host.loc[oct19_host['host_response_time'] == 'a few days or more'] = 2.5\n",
    "oct19_host['host_response_time'] = oct19_host.host_response_time.fillna(0)"
   ]
  },
  {
   "cell_type": "code",
   "execution_count": 19,
   "metadata": {
    "colab": {
     "base_uri": "https://localhost:8080/",
     "height": 782
    },
    "id": "4PGow1SCZ1-4",
    "outputId": "a55aaaa2-ea85-4a49-a41c-4e44bfa8738e"
   },
   "outputs": [
    {
     "name": "stderr",
     "output_type": "stream",
     "text": [
      "/Users/goomibear/anaconda3/lib/python3.7/site-packages/ipykernel_launcher.py:10: SettingWithCopyWarning: \n",
      "A value is trying to be set on a copy of a slice from a DataFrame.\n",
      "Try using .loc[row_indexer,col_indexer] = value instead\n",
      "\n",
      "See the caveats in the documentation: http://pandas.pydata.org/pandas-docs/stable/indexing.html#indexing-view-versus-copy\n",
      "  # Remove the CWD from sys.path while we load stuff.\n",
      "/Users/goomibear/anaconda3/lib/python3.7/site-packages/ipykernel_launcher.py:12: SettingWithCopyWarning: \n",
      "A value is trying to be set on a copy of a slice from a DataFrame.\n",
      "Try using .loc[row_indexer,col_indexer] = value instead\n",
      "\n",
      "See the caveats in the documentation: http://pandas.pydata.org/pandas-docs/stable/indexing.html#indexing-view-versus-copy\n",
      "  if sys.path[0] == '':\n",
      "/Users/goomibear/anaconda3/lib/python3.7/site-packages/ipykernel_launcher.py:14: SettingWithCopyWarning: \n",
      "A value is trying to be set on a copy of a slice from a DataFrame.\n",
      "Try using .loc[row_indexer,col_indexer] = value instead\n",
      "\n",
      "See the caveats in the documentation: http://pandas.pydata.org/pandas-docs/stable/indexing.html#indexing-view-versus-copy\n",
      "  \n",
      "/Users/goomibear/anaconda3/lib/python3.7/site-packages/ipykernel_launcher.py:16: SettingWithCopyWarning: \n",
      "A value is trying to be set on a copy of a slice from a DataFrame.\n",
      "Try using .loc[row_indexer,col_indexer] = value instead\n",
      "\n",
      "See the caveats in the documentation: http://pandas.pydata.org/pandas-docs/stable/indexing.html#indexing-view-versus-copy\n",
      "  app.launch_new_instance()\n",
      "/Users/goomibear/anaconda3/lib/python3.7/site-packages/ipykernel_launcher.py:18: SettingWithCopyWarning: \n",
      "A value is trying to be set on a copy of a slice from a DataFrame.\n",
      "Try using .loc[row_indexer,col_indexer] = value instead\n",
      "\n",
      "See the caveats in the documentation: http://pandas.pydata.org/pandas-docs/stable/indexing.html#indexing-view-versus-copy\n",
      "/Users/goomibear/anaconda3/lib/python3.7/site-packages/ipykernel_launcher.py:20: SettingWithCopyWarning: \n",
      "A value is trying to be set on a copy of a slice from a DataFrame.\n",
      "Try using .loc[row_indexer,col_indexer] = value instead\n",
      "\n",
      "See the caveats in the documentation: http://pandas.pydata.org/pandas-docs/stable/indexing.html#indexing-view-versus-copy\n",
      "/Users/goomibear/anaconda3/lib/python3.7/site-packages/ipykernel_launcher.py:26: SettingWithCopyWarning: \n",
      "A value is trying to be set on a copy of a slice from a DataFrame.\n",
      "Try using .loc[row_indexer,col_indexer] = value instead\n",
      "\n",
      "See the caveats in the documentation: http://pandas.pydata.org/pandas-docs/stable/indexing.html#indexing-view-versus-copy\n"
     ]
    }
   ],
   "source": [
    "sept19_host = sept19_list[['host_since', \n",
    "                         'host_response_time', \n",
    "                         'host_response_rate', \n",
    "                         'host_is_superhost', \n",
    "                         'host_verifications', \n",
    "                         'host_has_profile_pic', \n",
    "                         'host_identity_verified']]\n",
    "\n",
    "sept19_h_since = 2018 - pd.to_numeric(sept19_host.host_since.str[:4])\n",
    "sept19_host['host_since'] = sept19_h_since / max(sept19_h_since) * 25\n",
    "sept19_h_sh = (sept19_host.host_is_superhost == 't')\n",
    "sept19_host['host_is_superhost'] = sept19_h_sh * 20\n",
    "sept19_h_rr = pd.to_numeric(sept19_host.host_response_rate.str[:-1])\n",
    "sept19_host['host_response_rate'] = sept19_h_rr.fillna(0) / 100 * 10\n",
    "sept19_h_verif = sept19_host.host_verifications.apply(lambda x: len(x.split(',')))\n",
    "sept19_host['host_verifications'] = sept19_h_verif / max(sept19_h_verif) * 15\n",
    "sept19_h_pp = (sept19_host.host_has_profile_pic == 't')\n",
    "sept19_host['host_has_profile_pic'] = sept19_h_pp * 5\n",
    "sept19_h_id = (sept19_host.host_identity_verified == 't')\n",
    "sept19_host['host_identity_verified'] = sept19_h_id * 15\n",
    "\n",
    "sept19_host.loc[sept19_host['host_response_time'] == 'within an hour'] = 10\n",
    "sept19_host.loc[sept19_host['host_response_time'] == 'within a few hours'] = 7.5\n",
    "sept19_host.loc[sept19_host['host_response_time'] == 'within a day'] = 5\n",
    "sept19_host.loc[sept19_host['host_response_time'] == 'a few days or more'] = 2.5\n",
    "sept19_host['host_response_time'] = sept19_host.host_response_time.fillna(0)"
   ]
  },
  {
   "cell_type": "code",
   "execution_count": 20,
   "metadata": {
    "id": "_bjnc_V0Yj9p"
   },
   "outputs": [],
   "source": [
    "#create column for host_score (out of 100)\n",
    "\n",
    "oct18_list['host_score'] = oct18_host.sum(axis=1)\n",
    "oct19_list['host_score'] = oct19_host.sum(axis=1)\n",
    "sept19_list['host_score'] = sept19_host.sum(axis=1)"
   ]
  },
  {
   "cell_type": "markdown",
   "metadata": {
    "id": "CD3y4-v891Pp"
   },
   "source": [
    "VADER Sentiment"
   ]
  },
  {
   "cell_type": "code",
   "execution_count": 21,
   "metadata": {
    "colab": {
     "base_uri": "https://localhost:8080/",
     "height": 204
    },
    "id": "h4iL8cih90lX",
    "outputId": "45452b56-1bc7-4682-89ff-a9119ff119c6"
   },
   "outputs": [
    {
     "name": "stderr",
     "output_type": "stream",
     "text": [
      "/Users/goomibear/anaconda3/lib/python3.7/site-packages/ipykernel_launcher.py:2: FutureWarning: read_table is deprecated, use read_csv instead, passing sep='\\t'.\n",
      "  \n"
     ]
    }
   ],
   "source": [
    "#Download VADER database\n",
    "vader = pd.read_table(\"vader_lexicon.txt\", header = None, index_col = 0)[[1]].rename(columns = {1: 'polarity'})"
   ]
  },
  {
   "cell_type": "code",
   "execution_count": 22,
   "metadata": {
    "id": "ymhcnPIT97je"
   },
   "outputs": [],
   "source": [
    "datasets = [oct18_list, oct19_list, sept19_list]\n",
    "columns = ['summary', 'space', 'description', 'neighborhood_overview', 'house_rules']\n",
    "\n",
    "for d in datasets:\n",
    "  for i in columns:\n",
    "#manipulate 'text' column: lowercase + remove punctuation\n",
    "    d[i] = d[i].str.lower() #change to lowercase\n",
    "    punct_re = r'[^\\w\\s]' #remove punctuation\n",
    "    d[i] = d[i].str.replace(punct_re, ' ')\n"
   ]
  },
  {
   "cell_type": "code",
   "execution_count": 23,
   "metadata": {
    "colab": {
     "base_uri": "https://localhost:8080/",
     "height": 233
    },
    "id": "NeZhINoM-ArI",
    "outputId": "9e73b950-c8ce-4f13-b6f7-4c48590ddae7"
   },
   "outputs": [],
   "source": [
    "for d in datasets:\n",
    "  for i in columns:\n",
    "  #tidy format: splits words for aggregation\n",
    "    tidy_format = (d[i]\n",
    "                  .str.split(expand = True)\n",
    "                  .stack()\n",
    "                  .reset_index(level=1)\n",
    "                  .rename(columns = {'level_1': 'num', 0: 'word'})\n",
    "                  )\n",
    "  #create new 'polarity' colun with polarity for each review\n",
    "    d[i + '_polarity'] = (tidy_format\n",
    "                    .merge(vader, how = 'left', left_on = 'word', right_index = True)\n",
    "                    .reset_index()\n",
    "                    .loc[:, ['index', 'polarity']]\n",
    "                    .groupby('index')\n",
    "                    .sum()\n",
    "                    .fillna(0)\n",
    "                    )"
   ]
  },
  {
   "cell_type": "code",
   "execution_count": 24,
   "metadata": {
    "colab": {
     "base_uri": "https://localhost:8080/",
     "height": 377
    },
    "id": "9NiGUtkY-EJj",
    "outputId": "0ba90565-41d0-4861-e9d3-236796cb6a1f"
   },
   "outputs": [],
   "source": [
    "#VADER on reviews\n",
    "#manipulate 'text' column: lowercase + remove punctuation\n",
    "reviews['comments'] = reviews['comments'].str.lower() #change to lowercase\n",
    "punct_re = r'[^\\w\\s]' #remove punctuation\n",
    "reviews['comments'] = reviews['comments'].str.replace(punct_re, ' ')\n",
    "\n",
    "#tidy format: splits words for aggregation\n",
    "tidy_format = (reviews['comments']\n",
    "              .str.split(expand = True)\n",
    "              .stack()\n",
    "              .reset_index(level=1)\n",
    "              .rename(columns = {'level_1': 'num', 0: 'word'})\n",
    "              )\n",
    "#create new 'polarity' colun with polarity for each review\n",
    "reviews['polarity'] = (tidy_format\n",
    "                .merge(vader, how = 'left', left_on = 'word', right_index = True)\n",
    "                .reset_index()\n",
    "                .loc[:, ['index', 'polarity']]\n",
    "                .groupby('index')\n",
    "                .sum()\n",
    "                .fillna(0)\n",
    "                )"
   ]
  },
  {
   "cell_type": "code",
   "execution_count": 25,
   "metadata": {
    "id": "9j2FJ_A3-I-M"
   },
   "outputs": [],
   "source": [
    "#join reviews to listing (find avg and stdv)\n",
    "  #filter reviews to get appropriate ones for each list/timeframe\n",
    "  #groupby listing_id\n",
    "  #find avg + stdv for each listing_id\n",
    "  #left join list + reviews\n",
    "  \n",
    "import datetime\n",
    "\n",
    "reviews['year'] = reviews['date'].apply(lambda x: datetime.datetime.strptime(x, '%Y-%m-%d').year)\n",
    "reviews['month'] = reviews['date'].apply(lambda x: datetime.datetime.strptime(x, '%Y-%m-%d').month)\n",
    "\n",
    "oct19_reviews = reviews[(reviews['year'] == 2019) & (reviews['month'] == 10 )]\n",
    "sept19_reviews = reviews[(reviews['year'] == 2019) & (reviews['month'] == 9 )]\n",
    "oct18_reviews = reviews[(reviews['year'] == 2018) & (reviews['month'] == 10 )]\n"
   ]
  },
  {
   "cell_type": "code",
   "execution_count": 26,
   "metadata": {
    "id": "6Y7clW06-Oy-"
   },
   "outputs": [],
   "source": [
    "#for oct18:\n",
    "oct18_groupby = oct18_reviews.groupby('listing_id')\n",
    "  #average\n",
    "oct18_avg_series = oct18_groupby.aggregate(np.average)['polarity']\n",
    "oct18_avg_df = pd.DataFrame({'listing_id':oct18_avg_series.index, 'review_polarity_avg':oct18_avg_series.values})\n",
    "oct18_list = oct18_list.merge(oct18_avg_df, left_on = 'id', right_on = 'listing_id', how = 'left')\n",
    "  #stdv\n",
    "oct18_stdv_series = oct18_groupby.aggregate(np.std)['polarity']\n",
    "oct18_stdv_df = pd.DataFrame({'listing_id':oct18_stdv_series.index, 'review_polarity_stdv':oct18_stdv_series.values})\n",
    "oct18_list = oct18_list.merge(oct18_stdv_df, left_on = 'id', right_on = 'listing_id', how = 'left')\n",
    "  #drop listing_id_x and listing_id_y columns\n",
    "oct18_list.drop(columns = ['listing_id_x', 'listing_id_y'], inplace = True)\n",
    "\n",
    "#for oct19\n",
    "oct19_groupby = oct19_reviews.groupby('listing_id')\n",
    "  #average\n",
    "oct19_avg_series = oct19_groupby.aggregate(np.average)['polarity']\n",
    "oct19_avg_df = pd.DataFrame({'listing_id':oct19_avg_series.index, 'review_polarity_avg':oct19_avg_series.values})\n",
    "oct19_list = oct19_list.merge(oct19_avg_df, left_on = 'id', right_on = 'listing_id', how = 'left')\n",
    "  #stdv\n",
    "oct19_stdv_series = oct19_groupby.aggregate(np.std)['polarity']\n",
    "oct19_stdv_df = pd.DataFrame({'listing_id':oct19_stdv_series.index, 'review_polarity_stdv':oct19_stdv_series.values})\n",
    "oct19_list = oct19_list.merge(oct19_stdv_df, left_on = 'id', right_on = 'listing_id', how = 'left')\n",
    "  #drop listing_id_x and listing_id_y columns\n",
    "oct19_list.drop(columns = ['listing_id_x', 'listing_id_y'], inplace = True)\n",
    "\n",
    "#for sept19\n",
    "sept19_groupby = sept19_reviews.groupby('listing_id')\n",
    "  #average\n",
    "sept19_avg_series = sept19_groupby.aggregate(np.average)['polarity']\n",
    "sept19_avg_df = pd.DataFrame({'listing_id':sept19_avg_series.index, 'review_polarity_avg':sept19_avg_series.values})\n",
    "sept19_list = sept19_list.merge(sept19_avg_df, left_on = 'id', right_on = 'listing_id', how = 'left')\n",
    "  #stadv\n",
    "sept19_stdv_series = sept19_groupby.aggregate(np.std)['polarity']\n",
    "sept19_stdv_df = pd.DataFrame({'listing_id':sept19_stdv_series.index, 'review_polarity_stdv':sept19_stdv_series.values})\n",
    "sept19_list = sept19_list.merge(sept19_stdv_df, left_on = 'id', right_on = 'listing_id', how = 'left')\n",
    "  #drop listing_id_x and listing_id_y columns\n",
    "sept19_list.drop(columns = ['listing_id_x', 'listing_id_y'], inplace = True)"
   ]
  },
  {
   "cell_type": "code",
   "execution_count": 27,
   "metadata": {
    "colab": {
     "base_uri": "https://localhost:8080/",
     "height": 214
    },
    "id": "4F64kfQK_V6r",
    "outputId": "225091ab-ea79-4e68-8111-20434d1e27f8"
   },
   "outputs": [
    {
     "data": {
      "text/html": [
       "<div>\n",
       "<style scoped>\n",
       "    .dataframe tbody tr th:only-of-type {\n",
       "        vertical-align: middle;\n",
       "    }\n",
       "\n",
       "    .dataframe tbody tr th {\n",
       "        vertical-align: top;\n",
       "    }\n",
       "\n",
       "    .dataframe thead th {\n",
       "        text-align: right;\n",
       "    }\n",
       "</style>\n",
       "<table border=\"1\" class=\"dataframe\">\n",
       "  <thead>\n",
       "    <tr style=\"text-align: right;\">\n",
       "      <th></th>\n",
       "      <th>id</th>\n",
       "      <th>listing_url</th>\n",
       "      <th>scrape_id</th>\n",
       "      <th>last_scraped</th>\n",
       "      <th>name</th>\n",
       "      <th>summary</th>\n",
       "      <th>space</th>\n",
       "      <th>description</th>\n",
       "      <th>experiences_offered</th>\n",
       "      <th>neighborhood_overview</th>\n",
       "      <th>...</th>\n",
       "      <th>lock_trans</th>\n",
       "      <th>dishes_trans</th>\n",
       "      <th>host_score</th>\n",
       "      <th>summary_polarity</th>\n",
       "      <th>space_polarity</th>\n",
       "      <th>description_polarity</th>\n",
       "      <th>neighborhood_overview_polarity</th>\n",
       "      <th>house_rules_polarity</th>\n",
       "      <th>review_polarity_avg</th>\n",
       "      <th>review_polarity_stdv</th>\n",
       "    </tr>\n",
       "  </thead>\n",
       "  <tbody>\n",
       "    <tr>\n",
       "      <th>1272</th>\n",
       "      <td>4175303</td>\n",
       "      <td>https://www.airbnb.com/rooms/4175303</td>\n",
       "      <td>20190912153044</td>\n",
       "      <td>2019-09-12</td>\n",
       "      <td>Central &amp; lovely full apartment</td>\n",
       "      <td>a private entrance  a wood floored apartment a...</td>\n",
       "      <td>the main bedroom has king sized bed  the room ...</td>\n",
       "      <td>a private entrance  a wood floored apartment a...</td>\n",
       "      <td>none</td>\n",
       "      <td>we love the centrality of this location   haye...</td>\n",
       "      <td>...</td>\n",
       "      <td>0</td>\n",
       "      <td>1</td>\n",
       "      <td>40.0</td>\n",
       "      <td>0.0</td>\n",
       "      <td>9.2</td>\n",
       "      <td>8.1</td>\n",
       "      <td>7.4</td>\n",
       "      <td>-1.2</td>\n",
       "      <td>NaN</td>\n",
       "      <td>NaN</td>\n",
       "    </tr>\n",
       "  </tbody>\n",
       "</table>\n",
       "<p>1 rows × 150 columns</p>\n",
       "</div>"
      ],
      "text/plain": [
       "           id                           listing_url       scrape_id  \\\n",
       "1272  4175303  https://www.airbnb.com/rooms/4175303  20190912153044   \n",
       "\n",
       "     last_scraped                             name  \\\n",
       "1272   2019-09-12  Central & lovely full apartment   \n",
       "\n",
       "                                                summary  \\\n",
       "1272  a private entrance  a wood floored apartment a...   \n",
       "\n",
       "                                                  space  \\\n",
       "1272  the main bedroom has king sized bed  the room ...   \n",
       "\n",
       "                                            description experiences_offered  \\\n",
       "1272  a private entrance  a wood floored apartment a...                none   \n",
       "\n",
       "                                  neighborhood_overview  ... lock_trans  \\\n",
       "1272  we love the centrality of this location   haye...  ...          0   \n",
       "\n",
       "     dishes_trans host_score summary_polarity space_polarity  \\\n",
       "1272            1       40.0              0.0            9.2   \n",
       "\n",
       "      description_polarity  neighborhood_overview_polarity  \\\n",
       "1272                   8.1                             7.4   \n",
       "\n",
       "     house_rules_polarity  review_polarity_avg  review_polarity_stdv  \n",
       "1272                 -1.2                  NaN                   NaN  \n",
       "\n",
       "[1 rows x 150 columns]"
      ]
     },
     "execution_count": 27,
     "metadata": {},
     "output_type": "execute_result"
    }
   ],
   "source": [
    "sept19_list.iloc[[1272]]"
   ]
  },
  {
   "cell_type": "code",
   "execution_count": 28,
   "metadata": {
    "id": "unSWMtW3tVTu"
   },
   "outputs": [],
   "source": [
    "# fill polarity with average\n",
    "oct18_list['neighborhood_overview_polarity'] = oct18_list['neighborhood_overview_polarity'].fillna(oct18_list['neighborhood_overview_polarity'].mean())\n",
    "oct19_list['neighborhood_overview_polarity'] = oct19_list['neighborhood_overview_polarity'].fillna(oct19_list['neighborhood_overview_polarity'].mean())\n",
    "sept19_list['neighborhood_overview_polarity'] = sept19_list['neighborhood_overview_polarity'].fillna(sept19_list['neighborhood_overview_polarity'].mean())\n",
    "\n",
    "oct18_list['summary_polarity'] = oct18_list['summary_polarity'].fillna(oct18_list['summary_polarity'].mean())\n",
    "oct19_list['summary_polarity'] = oct19_list['summary_polarity'].fillna(oct19_list['summary_polarity'].mean())\n",
    "sept19_list['summary_polarity'] = sept19_list['summary_polarity'].fillna(sept19_list['summary_polarity'].mean())\n",
    "\n",
    "oct18_list['space_polarity'] = oct18_list['space_polarity'].fillna(oct18_list['space_polarity'].mean())\n",
    "oct19_list['space_polarity'] = oct19_list['space_polarity'].fillna(oct19_list['space_polarity'].mean())\n",
    "sept19_list['space_polarity'] = sept19_list['space_polarity'].fillna(sept19_list['space_polarity'].mean())\n",
    "\n",
    "oct18_list['description_polarity'] = oct18_list['description_polarity'].fillna(oct18_list['description_polarity'].mean())\n",
    "oct19_list['description_polarity'] = oct19_list['description_polarity'].fillna(oct19_list['description_polarity'].mean())\n",
    "sept19_list['description_polarity'] = sept19_list['description_polarity'].fillna(sept19_list['description_polarity'].mean())\n",
    "\n",
    "oct18_list['house_rules_polarity'] = oct18_list['house_rules_polarity'].fillna(oct18_list['house_rules_polarity'].mean())\n",
    "oct19_list['house_rules_polarity'] = oct19_list['house_rules_polarity'].fillna(oct19_list['house_rules_polarity'].mean())\n",
    "sept19_list['house_rules_polarity'] = sept19_list['house_rules_polarity'].fillna(sept19_list['house_rules_polarity'].mean())\n",
    "\n",
    "oct18_list['review_polarity_avg'] = oct18_list['review_polarity_avg'].fillna(oct18_list['review_polarity_avg'].mean())\n",
    "oct19_list['review_polarity_avg'] = oct19_list['review_polarity_avg'].fillna(oct19_list['review_polarity_avg'].mean())\n",
    "sept19_list['review_polarity_avg'] = sept19_list['review_polarity_avg'].fillna(sept19_list['review_polarity_avg'].mean())\n",
    "\n",
    "oct18_list['review_polarity_stdv'] = oct18_list['review_polarity_stdv'].fillna(oct18_list['review_polarity_stdv'].mean())\n",
    "oct19_list['review_polarity_stdv'] = oct19_list['review_polarity_stdv'].fillna(oct19_list['review_polarity_stdv'].mean())\n",
    "sept19_list['review_polarity_stdv'] = sept19_list['review_polarity_stdv'].fillna(sept19_list['review_polarity_stdv'].mean())\n"
   ]
  },
  {
   "cell_type": "code",
   "execution_count": 29,
   "metadata": {
    "id": "YyefCYJcepDE"
   },
   "outputs": [],
   "source": [
    "oct19_list.to_csv(\"oct19-cleaned.csv\", index = False)"
   ]
  },
  {
   "cell_type": "code",
   "execution_count": 30,
   "metadata": {
    "id": "loqynQbnR-3Y"
   },
   "outputs": [],
   "source": [
    "oct18_list.to_csv(\"oct18-cleaned.csv\", index = False)"
   ]
  },
  {
   "cell_type": "code",
   "execution_count": 31,
   "metadata": {
    "id": "e4l2Lxc2SGhC"
   },
   "outputs": [],
   "source": [
    "sept19_list.to_csv(\"sept19-cleaned.csv\", index = False)"
   ]
  },
  {
   "cell_type": "raw",
   "metadata": {},
   "source": []
  }
 ],
 "metadata": {
  "colab": {
   "collapsed_sections": [],
   "machine_shape": "hm",
   "name": "airbnb_proj",
   "provenance": []
  },
  "kernelspec": {
   "display_name": "Python 3",
   "language": "python",
   "name": "python3"
  },
  "language_info": {
   "codemirror_mode": {
    "name": "ipython",
    "version": 3
   },
   "file_extension": ".py",
   "mimetype": "text/x-python",
   "name": "python",
   "nbconvert_exporter": "python",
   "pygments_lexer": "ipython3",
   "version": "3.7.3"
  }
 },
 "nbformat": 4,
 "nbformat_minor": 1
}
